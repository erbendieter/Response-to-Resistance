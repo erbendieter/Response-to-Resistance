{
 "cells": [
  {
   "cell_type": "markdown",
   "metadata": {},
   "source": [
    "# Model Selection an Evaluation"
   ]
  },
  {
   "cell_type": "code",
   "execution_count": 1,
   "metadata": {},
   "outputs": [],
   "source": [
    "import pandas as pd\n",
    "import numpy as np\n",
    "pd.set_option('mode.chained_assignment', None)\n",
    "from sklearn.model_selection import StratifiedKFold, train_test_split\n",
    "from sklearn.tree import DecisionTreeClassifier\n",
    "from sklearn.linear_model import LogisticRegression\n",
    "from sklearn.naive_bayes import BernoulliNB\n",
    "from sklearn.metrics import roc_curve, auc, confusion_matrix\n",
    "from sklearn import svm \n",
    "from sklearn.neighbors import KNeighborsClassifier\n",
    "from sklearn.preprocessing import StandardScaler\n",
    "import matplotlib.pyplot as plt\n",
    "import seaborn as sns\n",
    "%matplotlib inline"
   ]
  },
  {
   "cell_type": "code",
   "execution_count": 2,
   "metadata": {},
   "outputs": [
    {
     "name": "stderr",
     "output_type": "stream",
     "text": [
      "/Users/brinaseidel/anaconda3/lib/python3.6/site-packages/IPython/core/interactiveshell.py:2785: DtypeWarning: Columns (7) have mixed types. Specify dtype option on import or set low_memory=False.\n",
      "  interactivity=interactivity, compiler=compiler, result=result)\n"
     ]
    },
    {
     "data": {
      "text/html": [
       "<div>\n",
       "<style scoped>\n",
       "    .dataframe tbody tr th:only-of-type {\n",
       "        vertical-align: middle;\n",
       "    }\n",
       "\n",
       "    .dataframe tbody tr th {\n",
       "        vertical-align: top;\n",
       "    }\n",
       "\n",
       "    .dataframe thead th {\n",
       "        text-align: right;\n",
       "    }\n",
       "</style>\n",
       "<table border=\"1\" class=\"dataframe\">\n",
       "  <thead>\n",
       "    <tr style=\"text-align: right;\">\n",
       "      <th></th>\n",
       "      <th>date_time</th>\n",
       "      <th>date_x</th>\n",
       "      <th>time</th>\n",
       "      <th>loc_t ype</th>\n",
       "      <th>zip_code</th>\n",
       "      <th>council_district</th>\n",
       "      <th>apd_sector</th>\n",
       "      <th>apd_district</th>\n",
       "      <th>latitude</th>\n",
       "      <th>longtitude</th>\n",
       "      <th>...</th>\n",
       "      <th>P0030006_pct</th>\n",
       "      <th>P0030007_pct</th>\n",
       "      <th>P0030008_pct</th>\n",
       "      <th>P0040003_pct</th>\n",
       "      <th>P0200002_pct</th>\n",
       "      <th>P0250002_pct</th>\n",
       "      <th>P0190007_pct</th>\n",
       "      <th>B19113_001E</th>\n",
       "      <th>B17001_001E_pct</th>\n",
       "      <th>C18120_003E_pct</th>\n",
       "    </tr>\n",
       "  </thead>\n",
       "  <tbody>\n",
       "    <tr>\n",
       "      <th>0</th>\n",
       "      <td>2014-10-01 20:19:00</td>\n",
       "      <td>10/01/2014</td>\n",
       "      <td>2019.0</td>\n",
       "      <td>RESIDENCE / HOME</td>\n",
       "      <td>78723.0</td>\n",
       "      <td>1.0</td>\n",
       "      <td>ID</td>\n",
       "      <td>1</td>\n",
       "      <td>30.315506</td>\n",
       "      <td>-97.690678</td>\n",
       "      <td>...</td>\n",
       "      <td>0.0004</td>\n",
       "      <td>0.211769</td>\n",
       "      <td>0.064652</td>\n",
       "      <td>0.529424</td>\n",
       "      <td>0.402545</td>\n",
       "      <td>0.130133</td>\n",
       "      <td>0.337189</td>\n",
       "      <td>35600.0</td>\n",
       "      <td>0.994701</td>\n",
       "      <td>0.88417</td>\n",
       "    </tr>\n",
       "    <tr>\n",
       "      <th>1</th>\n",
       "      <td>2014-10-05 16:33:00</td>\n",
       "      <td>10/05/2014</td>\n",
       "      <td>1633.0</td>\n",
       "      <td>RESIDENCE / HOME</td>\n",
       "      <td>78723.0</td>\n",
       "      <td>1.0</td>\n",
       "      <td>ID</td>\n",
       "      <td>1</td>\n",
       "      <td>30.315506</td>\n",
       "      <td>-97.690678</td>\n",
       "      <td>...</td>\n",
       "      <td>0.0004</td>\n",
       "      <td>0.211769</td>\n",
       "      <td>0.064652</td>\n",
       "      <td>0.529424</td>\n",
       "      <td>0.402545</td>\n",
       "      <td>0.130133</td>\n",
       "      <td>0.337189</td>\n",
       "      <td>35600.0</td>\n",
       "      <td>0.994701</td>\n",
       "      <td>0.88417</td>\n",
       "    </tr>\n",
       "    <tr>\n",
       "      <th>2</th>\n",
       "      <td>2012-01-20 22:30:00</td>\n",
       "      <td>01/20/2012</td>\n",
       "      <td>2230.0</td>\n",
       "      <td>PARKING LOTS / GARAGE</td>\n",
       "      <td>78723.0</td>\n",
       "      <td>1.0</td>\n",
       "      <td>ID</td>\n",
       "      <td>1</td>\n",
       "      <td>30.320667</td>\n",
       "      <td>-97.687671</td>\n",
       "      <td>...</td>\n",
       "      <td>0.0004</td>\n",
       "      <td>0.211769</td>\n",
       "      <td>0.064652</td>\n",
       "      <td>0.529424</td>\n",
       "      <td>0.402545</td>\n",
       "      <td>0.130133</td>\n",
       "      <td>0.337189</td>\n",
       "      <td>35600.0</td>\n",
       "      <td>0.994701</td>\n",
       "      <td>0.88417</td>\n",
       "    </tr>\n",
       "    <tr>\n",
       "      <th>3</th>\n",
       "      <td>2011-01-01 20:00:00</td>\n",
       "      <td>01/01/2011</td>\n",
       "      <td>2000.0</td>\n",
       "      <td>RESIDENCE / HOME</td>\n",
       "      <td>78723.0</td>\n",
       "      <td>1.0</td>\n",
       "      <td>ID</td>\n",
       "      <td>1</td>\n",
       "      <td>30.320667</td>\n",
       "      <td>-97.687671</td>\n",
       "      <td>...</td>\n",
       "      <td>0.0004</td>\n",
       "      <td>0.211769</td>\n",
       "      <td>0.064652</td>\n",
       "      <td>0.529424</td>\n",
       "      <td>0.402545</td>\n",
       "      <td>0.130133</td>\n",
       "      <td>0.337189</td>\n",
       "      <td>35600.0</td>\n",
       "      <td>0.994701</td>\n",
       "      <td>0.88417</td>\n",
       "    </tr>\n",
       "    <tr>\n",
       "      <th>4</th>\n",
       "      <td>2012-03-06 05:00:00</td>\n",
       "      <td>03/06/2012</td>\n",
       "      <td>500.0</td>\n",
       "      <td>RESIDENCE / HOME</td>\n",
       "      <td>78723.0</td>\n",
       "      <td>1.0</td>\n",
       "      <td>ID</td>\n",
       "      <td>1</td>\n",
       "      <td>30.320667</td>\n",
       "      <td>-97.687671</td>\n",
       "      <td>...</td>\n",
       "      <td>0.0004</td>\n",
       "      <td>0.211769</td>\n",
       "      <td>0.064652</td>\n",
       "      <td>0.529424</td>\n",
       "      <td>0.402545</td>\n",
       "      <td>0.130133</td>\n",
       "      <td>0.337189</td>\n",
       "      <td>35600.0</td>\n",
       "      <td>0.994701</td>\n",
       "      <td>0.88417</td>\n",
       "    </tr>\n",
       "  </tbody>\n",
       "</table>\n",
       "<p>5 rows × 108 columns</p>\n",
       "</div>"
      ],
      "text/plain": [
       "             date_time      date_x    time              loc_t ype  zip_code  \\\n",
       "0  2014-10-01 20:19:00  10/01/2014  2019.0       RESIDENCE / HOME   78723.0   \n",
       "1  2014-10-05 16:33:00  10/05/2014  1633.0       RESIDENCE / HOME   78723.0   \n",
       "2  2012-01-20 22:30:00  01/20/2012  2230.0  PARKING LOTS / GARAGE   78723.0   \n",
       "3  2011-01-01 20:00:00  01/01/2011  2000.0       RESIDENCE / HOME   78723.0   \n",
       "4  2012-03-06 05:00:00  03/06/2012   500.0       RESIDENCE / HOME   78723.0   \n",
       "\n",
       "   council_district apd_sector apd_district   latitude  longtitude  \\\n",
       "0               1.0         ID            1  30.315506  -97.690678   \n",
       "1               1.0         ID            1  30.315506  -97.690678   \n",
       "2               1.0         ID            1  30.320667  -97.687671   \n",
       "3               1.0         ID            1  30.320667  -97.687671   \n",
       "4               1.0         ID            1  30.320667  -97.687671   \n",
       "\n",
       "        ...        P0030006_pct  P0030007_pct  P0030008_pct  P0040003_pct  \\\n",
       "0       ...              0.0004      0.211769      0.064652      0.529424   \n",
       "1       ...              0.0004      0.211769      0.064652      0.529424   \n",
       "2       ...              0.0004      0.211769      0.064652      0.529424   \n",
       "3       ...              0.0004      0.211769      0.064652      0.529424   \n",
       "4       ...              0.0004      0.211769      0.064652      0.529424   \n",
       "\n",
       "   P0200002_pct  P0250002_pct  P0190007_pct  B19113_001E  B17001_001E_pct  \\\n",
       "0      0.402545      0.130133      0.337189      35600.0         0.994701   \n",
       "1      0.402545      0.130133      0.337189      35600.0         0.994701   \n",
       "2      0.402545      0.130133      0.337189      35600.0         0.994701   \n",
       "3      0.402545      0.130133      0.337189      35600.0         0.994701   \n",
       "4      0.402545      0.130133      0.337189      35600.0         0.994701   \n",
       "\n",
       "   C18120_003E_pct  \n",
       "0          0.88417  \n",
       "1          0.88417  \n",
       "2          0.88417  \n",
       "3          0.88417  \n",
       "4          0.88417  \n",
       "\n",
       "[5 rows x 108 columns]"
      ]
     },
     "execution_count": 2,
     "metadata": {},
     "output_type": "execute_result"
    }
   ],
   "source": [
    "combined = pd.read_csv(\"../Personal Response_to_Resistance/Input Data/clean_data.csv\", header=0)\n",
    "#combined = pd.read_csv('clean_data.csv')\n",
    "combined.head()"
   ]
  },
  {
   "cell_type": "code",
   "execution_count": 3,
   "metadata": {},
   "outputs": [],
   "source": [
    "# APD sector\n",
    "apd_sector_dummies = pd.get_dummies(combined.apd_sector)\n",
    "cols = []\n",
    "for col in apd_sector_dummies.columns:\n",
    "    cols.append(\"apd_sector\"+str(col))\n",
    "apd_sector_dummies.columns = cols\n",
    "\n",
    "# Zip codes\n",
    "zip_dummies = pd.get_dummies(combined.zip_code)\n",
    "cols = []\n",
    "for col in zip_dummies.columns:\n",
    "    cols.append(\"zip\"+str(int(col)))\n",
    "zip_dummies.columns = cols\n",
    "\n",
    "combined = pd.concat([combined, apd_sector_dummies, zip_dummies], axis=1)\n",
    "\n",
    "# Location type\n",
    "loc_type_dummies = pd.get_dummies(combined['loc_t ype'])\n",
    "cols = []\n",
    "for col in loc_type_dummies.columns:\n",
    "    cols.append(\"loc_type\"+str(col))\n",
    "loc_type_dummies.columns = cols\n",
    "\n",
    "combined = pd.concat([combined, apd_sector_dummies, zip_dummies, loc_type_dummies], axis=1)\n",
    "\n",
    "combined.drop([\"month\", \"day_of_week\", \"hour_of_day\", \"tract\", \"loc_t ype\", \"apd_sector\", \"zip_code\", \"council_district\", \"latitude\", \"longtitude\", \"date_time\", \"date_x\", \"apd_district\", \"location\", \"year\", \"time\"], axis=1, inplace=True)\n"
   ]
  },
  {
   "cell_type": "code",
   "execution_count": 4,
   "metadata": {},
   "outputs": [
    {
     "name": "stdout",
     "output_type": "stream",
     "text": [
      "Cases with missing that we will drop:\n",
      "0.0    0.993385\n",
      "1.0    0.006615\n",
      "Name: Target1, dtype: float64\n",
      "\n",
      " Nonmissing Cases:\n",
      "0.0    0.987127\n",
      "1.0    0.012873\n",
      "Name: Target1, dtype: float64\n"
     ]
    }
   ],
   "source": [
    "# Compare cases with missing data to cases with nonmissing data\n",
    "print(\"Cases with missing that we will drop:\")\n",
    "print(combined[combined.isnull().any(axis=1)].Target1.value_counts(normalize=True))\n",
    "print(\"\\n Nonmissing Cases:\")\n",
    "print(combined[~combined.isnull().any(axis=1)].Target1.value_counts(normalize=True))\n",
    "\n",
    "# Drop rows with missing data\n",
    "combined = combined.dropna()\n",
    "combined.reset_index(inplace=True, drop=True)\n"
   ]
  },
  {
   "cell_type": "code",
   "execution_count": 5,
   "metadata": {},
   "outputs": [],
   "source": [
    "combined_outcomes = combined[[\"Target2\", \"any_weapon\", \"max_r2r\", \"any_shot\", \"any_sub_complaint\", \"any_off_complaint\", \"any_resistance\"]]\n",
    "combined.drop([\"any_weapon\", \"max_r2r\", \"any_shot\", \"any_sub_complaint\", \"any_off_complaint\", \"any_resistance\"], axis=1, inplace=True)"
   ]
  },
  {
   "cell_type": "code",
   "execution_count": 6,
   "metadata": {},
   "outputs": [],
   "source": [
    "# Standardize the data\n",
    "combined_scaled = pd.DataFrame(StandardScaler().fit_transform(combined))"
   ]
  },
  {
   "cell_type": "code",
   "execution_count": 7,
   "metadata": {},
   "outputs": [],
   "source": [
    "combined_scaled.columns = combined.columns\n",
    "combined_scaled.Target1 = (combined_scaled[\"Target1\"]>0).astype(int)\n",
    "combined_scaled.Target2 = (combined_scaled[\"Target1\"]>1).astype(int)"
   ]
  },
  {
   "cell_type": "markdown",
   "metadata": {},
   "source": [
    "## Split into training and testing data"
   ]
  },
  {
   "cell_type": "code",
   "execution_count": 8,
   "metadata": {},
   "outputs": [],
   "source": [
    "X = combined.drop([\"Target1\", \"Target2\"], axis=1)\n",
    "y = combined[\"Target1\"]\n",
    "\n",
    "# Regular dataset\n",
    "X_train, X_test, y_train, y_test, index_train, index_test = train_test_split(X, y, list(combined.index), test_size=0.2, random_state=100, stratify=y)\n",
    "\n",
    "# Scaled dataset\n",
    "X_train_scaled = combined_scaled.drop([\"Target1\", \"Target2\"], axis=1).iloc[index_train, ]\n",
    "y_train_scaled = combined.loc[index_train, \"Target1\"]\n",
    "X_test_scaled = combined_scaled.drop([\"Target1\", \"Target2\"], axis=1).iloc[index_test, ]\n",
    "y_test_scaled = combined.loc[index_test, \"Target1\"]"
   ]
  },
  {
   "cell_type": "code",
   "execution_count": 9,
   "metadata": {},
   "outputs": [
    {
     "name": "stdout",
     "output_type": "stream",
     "text": [
      "Training:\n",
      "0.0    0.987127\n",
      "1.0    0.012873\n",
      "Name: Target1, dtype: float64\n",
      "\n",
      "Testing:\n",
      "0.0    0.987126\n",
      "1.0    0.012874\n",
      "Name: Target1, dtype: float64\n"
     ]
    }
   ],
   "source": [
    "# Check that the stratification worked\n",
    "print(\"Training:\")\n",
    "print(y_train.value_counts(normalize=True))\n",
    "print(\"\\nTesting:\")\n",
    "print(y_test.value_counts(normalize=True))"
   ]
  },
  {
   "cell_type": "markdown",
   "metadata": {},
   "source": [
    "## Run a baseline model\n",
    "\n",
    "Our baseline model uses only the information that was available to the police department before our data mining process. This includes:\n",
    "- Month dummies\n",
    "- Day of week dummies\n",
    "- Hour of day dummies"
   ]
  },
  {
   "cell_type": "code",
   "execution_count": 10,
   "metadata": {},
   "outputs": [],
   "source": [
    "apd_sectors =  [col for col in combined if col.startswith('apd_sector') and col != \"apd_sector\"][:-1]\n",
    "months = [col for col in combined if col.startswith('month') and col != \"month\"][:-1]\n",
    "days = [col for col in combined if col.startswith('day') and col != \"day_of_week\"][:-1]\n",
    "hours = [col for col in combined if col.startswith('hour') and col != \"hour_of_day\"][:-1]\n",
    "baseline_cols = months + days + hours + apd_sectors"
   ]
  },
  {
   "cell_type": "code",
   "execution_count": 11,
   "metadata": {},
   "outputs": [
    {
     "data": {
      "text/plain": [
       "0.6250091424253844"
      ]
     },
     "execution_count": 11,
     "metadata": {},
     "output_type": "execute_result"
    }
   ],
   "source": [
    "model = DecisionTreeClassifier(criterion=\"entropy\").fit(X_train[baseline_cols], y_train)\n",
    "y_pred = model.predict_proba(X_test[baseline_cols])[:,1]\n",
    "fpr, tpr, thresholds = roc_curve(y_test, y_pred)\n",
    "auc(fpr, tpr)"
   ]
  },
  {
   "cell_type": "markdown",
   "metadata": {},
   "source": [
    "## Select appropriate features"
   ]
  },
  {
   "cell_type": "code",
   "execution_count": 12,
   "metadata": {},
   "outputs": [
    {
     "name": "stderr",
     "output_type": "stream",
     "text": [
      "/Users/brinaseidel/anaconda3/lib/python3.6/site-packages/sklearn/linear_model/sag.py:326: ConvergenceWarning: The max_iter was reached which means the coef_ did not converge\n",
      "  \"the coef_ did not converge\", ConvergenceWarning)\n"
     ]
    }
   ],
   "source": [
    "# Run a logistic regression with a L1 penalty to return zeroes for some coefficients that are not useful\n",
    "l1_regularization = LogisticRegression(penalty='l1', solver='saga').fit(X_train_scaled, y_train_scaled)"
   ]
  },
  {
   "cell_type": "code",
   "execution_count": 13,
   "metadata": {},
   "outputs": [
    {
     "name": "stdout",
     "output_type": "stream",
     "text": [
      "Variables dropped: 121\n",
      "Variables remaining: 194\n"
     ]
    }
   ],
   "source": [
    "l1_regularization_coefs = dict(zip(X_train.columns, l1_regularization.coef_[0]))\n",
    "cols_to_use = [key for key, value in l1_regularization_coefs.items() if value != 0]\n",
    "print(\"Variables dropped: \" + str(len(X_train.columns) - len(cols_to_use)))\n",
    "print(\"Variables remaining: \" + str(len(cols_to_use)))"
   ]
  },
  {
   "cell_type": "code",
   "execution_count": 14,
   "metadata": {},
   "outputs": [
    {
     "data": {
      "text/plain": [
       "['loc_typeSTREETS / HWY / ROAD / ALLEY',\n",
       " 'hour2',\n",
       " 'loc_typeRESIDENCE / HOME',\n",
       " 'hour1',\n",
       " 'zip78701',\n",
       " 'loc_typeCOMMERCIAL / OFFICE BUILDING',\n",
       " 'hour12',\n",
       " 'loc_typePARK / PLAYGROUND',\n",
       " 'hour8',\n",
       " 'hour9',\n",
       " 'day6',\n",
       " 'P0030004_pct',\n",
       " 'B19113_001E',\n",
       " 'apd_sectorID',\n",
       " 'hour10',\n",
       " 'loc_typeDEPARTMENT / DISCOUNT STORE',\n",
       " 'C18120_003E_pct',\n",
       " 'hour11',\n",
       " 'loc_typePARKING LOTS / GARAGE',\n",
       " 'apd_sectorGE',\n",
       " 'hour14',\n",
       " 'loc_typeOTHER / UNKNOWN',\n",
       " 'hour4',\n",
       " 'P0190007_pct',\n",
       " 'zip78752',\n",
       " 'loc_typeGROCERY / SUPERMARKET',\n",
       " 'loc_typeDRUG STORE / DR. OFFICE / HOSPITAL',\n",
       " 'zip78753',\n",
       " 'day5',\n",
       " 'apd_sectorAD',\n",
       " 'P0030005_pct',\n",
       " 'hour13',\n",
       " 'P0250002_pct',\n",
       " 'zip78751',\n",
       " 'loc_typeRESTAURANTS',\n",
       " 'P0130003',\n",
       " 'hour3',\n",
       " 'apd_sectorCH',\n",
       " 'hour18',\n",
       " 'day1',\n",
       " 'apd_sectorED',\n",
       " 'loc_typeGOVERNMENT / PUBLIC BUILDING',\n",
       " 'hour0',\n",
       " 'hour7',\n",
       " 'apd_sectorBA',\n",
       " 'day3',\n",
       " 'zip78703',\n",
       " 'zip78704',\n",
       " 'loc_typeFIELD / WOODS',\n",
       " 'P0030008_pct',\n",
       " 'zip78746',\n",
       " 'loc_typeCONSTRUCTION SITE',\n",
       " 'hour17',\n",
       " 'day0',\n",
       " 'P0130001',\n",
       " 'hour22',\n",
       " 'zip78757',\n",
       " 'dew_min',\n",
       " 'hour20',\n",
       " 'hour6',\n",
       " 'zip78754',\n",
       " 'P0130002',\n",
       " 'loc_typeBANKS / SAVINGS & LOAN',\n",
       " 'loc_typeSHELTER-MISSION / HOMELESS',\n",
       " 'loc_typeJAIL / PRISON',\n",
       " 'zip78724',\n",
       " 'dew_max',\n",
       " 'hour5',\n",
       " 'hour15',\n",
       " 'P0030003_pct',\n",
       " 'apd_sectorHENRY',\n",
       " 'hour23',\n",
       " 'month11',\n",
       " 'hour21',\n",
       " 'B17001_001E_pct',\n",
       " 'month10',\n",
       " 'zip78749',\n",
       " 'P0040003_pct',\n",
       " 'zip78723',\n",
       " 'apd_sectorDA',\n",
       " 'zip78748',\n",
       " 'loc_typeHOTEL / MOTEL / ETC.',\n",
       " 'zip78735',\n",
       " 'P0200002_pct',\n",
       " 'zip78722',\n",
       " 'zip78721',\n",
       " 'loc_typeAMUSEMENT PARK',\n",
       " 'loc_typeGAMBLING FACILITY / CASINO / RACE TRACK',\n",
       " 'thanksgiving',\n",
       " 'loc_typeARENA / STADIUM / FAIRGROUNDS / COLISEUM',\n",
       " 'loc_typeFARM FACILITY',\n",
       " 'P0030006_pct',\n",
       " 'loc_typeBAR / NIGHT CLUB',\n",
       " 'loc_typeRENTAL STORAGE FACILITY',\n",
       " 'P0030007_pct',\n",
       " 'zip78756',\n",
       " 'zip78705',\n",
       " 'zip78739',\n",
       " 'zip78759',\n",
       " 'new_year',\n",
       " 'loc_typeLAKE / WATERWAY',\n",
       " 'christmas',\n",
       " 'zip78758',\n",
       " 'zip78741',\n",
       " 'zip78747',\n",
       " 'zip78745',\n",
       " 'month7',\n",
       " 'loc_typeDAYCARE FACILITY',\n",
       " 'wind_max',\n",
       " 'month6',\n",
       " 'loc_typeLIQUOR STORE',\n",
       " 'loc_typeSCHOOLS / COLLEGES',\n",
       " 'mlk_day',\n",
       " 'col_day',\n",
       " 'zip78731',\n",
       " 'temp_min',\n",
       " 'zip78613',\n",
       " 'loc_typeCHURCH / SYNAGOGUE / TEMPLE / MOSQUE',\n",
       " 'zip78742',\n",
       " 'pres_max',\n",
       " 'labor_day',\n",
       " 'P0030002_pct',\n",
       " 'loc_typeAUTO DEALERSHIP NEW / USED',\n",
       " 'hum_max',\n",
       " 'mem_day',\n",
       " 'zip78653',\n",
       " 'hum_min',\n",
       " 'loc_typeATM SEPARATE FROM BANK',\n",
       " 'loc_typeABANDONED/CONDEMNED STRUCTURE',\n",
       " 'month3',\n",
       " 'loc_typeINDUSTRIAL SITE',\n",
       " 'loc_typeTRANSPORTATION (AIR / BUS / TRAIN - TERMINALS)',\n",
       " 'loc_typeSHOPPING MALL',\n",
       " 'day2',\n",
       " 'pres_min',\n",
       " 'apd_sectorFR',\n",
       " 'temp_max',\n",
       " 'month2',\n",
       " 'apd_sectorHE',\n",
       " 'loc_typeCAMP / CAMPGROUND',\n",
       " 'hour16',\n",
       " 'zip78730',\n",
       " 'loc_typeSPECIALTY  STORE (TV  FUR ETC.)',\n",
       " 'zip78660',\n",
       " 'loc_typeDOCK / WHARF / FREIGHT / MODAL TERMINAL',\n",
       " 'zip78733',\n",
       " 'zip78744',\n",
       " 'loc_typeSCHOOL - ELEMENTARY / SECONDARY',\n",
       " 'prec_avg',\n",
       " 'zip78719',\n",
       " 'zip78617',\n",
       " 'P0030001',\n",
       " 'ind_day',\n",
       " 'zip78732',\n",
       " 'month8',\n",
       " 'dew_avg',\n",
       " 'zip78702',\n",
       " 'loc_typeSCHOOL - COLLEGE / UNIVERSITY',\n",
       " 'apd_sector88',\n",
       " 'zip78681',\n",
       " 'hour19',\n",
       " 'month9',\n",
       " 'zip78728',\n",
       " 'month4',\n",
       " 'zip78610',\n",
       " 'loc_typeGAS / SERVICE STATIONS',\n",
       " 'zip78737',\n",
       " 'zip78727',\n",
       " 'loc_typeREST AREA',\n",
       " 'zip78712',\n",
       " 'loc_typeCOMMUNITY CENTER',\n",
       " 'zip78734',\n",
       " 'zip78652',\n",
       " 'loc_typeCONVENIENCE STORE',\n",
       " 'zip78664',\n",
       " 'loc_typeTRIBAL LANDS',\n",
       " 'zip78641',\n",
       " 'day4',\n",
       " 'loc_typeMILITARY INSTALLATION',\n",
       " 'month5',\n",
       " 'temp_avg',\n",
       " 'zip78736',\n",
       " 'vet_day',\n",
       " 'zip78726',\n",
       " 'zip78738',\n",
       " 'wash_bday',\n",
       " 'wind_min',\n",
       " 'month12',\n",
       " 'zip78645',\n",
       " 'zip78729',\n",
       " 'zip78725',\n",
       " 'month1',\n",
       " 'zip78750',\n",
       " 'zip78717',\n",
       " 'apd_sector1',\n",
       " 'apd_sector1124',\n",
       " 'apd_sector2',\n",
       " 'apd_sector4',\n",
       " 'apd_sector8',\n",
       " 'apd_sector83',\n",
       " 'apd_sector99',\n",
       " 'apd_sectorA1',\n",
       " 'apd_sectorADAM',\n",
       " 'apd_sectorAP',\n",
       " 'apd_sectorBAKR',\n",
       " 'apd_sectorC1',\n",
       " 'apd_sectorDAVD',\n",
       " 'apd_sectorG',\n",
       " 'apd_sectorGRGE',\n",
       " 'apd_sectorH',\n",
       " 'apd_sectorHR',\n",
       " 'apd_sectorI',\n",
       " 'apd_sectorIDA',\n",
       " 'apd_sectorRF',\n",
       " 'zip0',\n",
       " 'zip76574',\n",
       " 'zip78612',\n",
       " 'zip78619',\n",
       " 'zip78621',\n",
       " 'zip78626',\n",
       " 'zip78640',\n",
       " 'zip78669']"
      ]
     },
     "execution_count": 14,
     "metadata": {},
     "output_type": "execute_result"
    }
   ],
   "source": [
    "# Show largest coefficients\n",
    "for key, value in l1_regularization_coefs.items():\n",
    "    l1_regularization_coefs[key] = abs(value)\n",
    "sorted(l1_regularization_coefs, key=l1_regularization_coefs.get, reverse=True)"
   ]
  },
  {
   "cell_type": "code",
   "execution_count": 15,
   "metadata": {},
   "outputs": [
    {
     "data": {
      "text/plain": [
       "['temp_max',\n",
       " 'temp_avg',\n",
       " 'temp_min',\n",
       " 'dew_max',\n",
       " 'dew_avg',\n",
       " 'dew_min',\n",
       " 'hum_max',\n",
       " 'hum_min',\n",
       " 'wind_max',\n",
       " 'wind_min',\n",
       " 'pres_max',\n",
       " 'pres_min',\n",
       " 'prec_avg',\n",
       " 'new_year',\n",
       " 'mlk_day',\n",
       " 'wash_bday',\n",
       " 'mem_day',\n",
       " 'ind_day',\n",
       " 'labor_day',\n",
       " 'col_day',\n",
       " 'vet_day',\n",
       " 'thanksgiving',\n",
       " 'christmas',\n",
       " 'month1',\n",
       " 'month2',\n",
       " 'month3',\n",
       " 'month4',\n",
       " 'month5',\n",
       " 'month6',\n",
       " 'month7',\n",
       " 'month8',\n",
       " 'month9',\n",
       " 'month10',\n",
       " 'month11',\n",
       " 'month12',\n",
       " 'day0',\n",
       " 'day1',\n",
       " 'day2',\n",
       " 'day3',\n",
       " 'day4',\n",
       " 'day5',\n",
       " 'day6',\n",
       " 'hour0',\n",
       " 'hour1',\n",
       " 'hour2',\n",
       " 'hour3',\n",
       " 'hour4',\n",
       " 'hour5',\n",
       " 'hour6',\n",
       " 'hour7',\n",
       " 'hour8',\n",
       " 'hour9',\n",
       " 'hour10',\n",
       " 'hour11',\n",
       " 'hour12',\n",
       " 'hour13',\n",
       " 'hour14',\n",
       " 'hour15',\n",
       " 'hour16',\n",
       " 'hour17',\n",
       " 'hour18',\n",
       " 'hour19',\n",
       " 'hour20',\n",
       " 'hour21',\n",
       " 'hour22',\n",
       " 'hour23',\n",
       " 'P0030001',\n",
       " 'P0130001',\n",
       " 'P0130002',\n",
       " 'P0130003',\n",
       " 'P0030002_pct',\n",
       " 'P0030003_pct',\n",
       " 'P0030004_pct',\n",
       " 'P0030005_pct',\n",
       " 'P0030006_pct',\n",
       " 'P0030007_pct',\n",
       " 'P0030008_pct',\n",
       " 'P0040003_pct',\n",
       " 'P0200002_pct',\n",
       " 'P0250002_pct',\n",
       " 'P0190007_pct',\n",
       " 'B19113_001E',\n",
       " 'B17001_001E_pct',\n",
       " 'C18120_003E_pct',\n",
       " 'apd_sector88',\n",
       " 'apd_sectorAD',\n",
       " 'apd_sectorBA',\n",
       " 'apd_sectorCH',\n",
       " 'apd_sectorDA',\n",
       " 'apd_sectorED',\n",
       " 'apd_sectorFR',\n",
       " 'apd_sectorGE',\n",
       " 'apd_sectorHE',\n",
       " 'apd_sectorHENRY',\n",
       " 'apd_sectorID',\n",
       " 'zip78610',\n",
       " 'zip78613',\n",
       " 'zip78617',\n",
       " 'zip78641',\n",
       " 'zip78645',\n",
       " 'zip78652',\n",
       " 'zip78653',\n",
       " 'zip78660',\n",
       " 'zip78664',\n",
       " 'zip78681',\n",
       " 'zip78701',\n",
       " 'zip78702',\n",
       " 'zip78703',\n",
       " 'zip78704',\n",
       " 'zip78705',\n",
       " 'zip78712',\n",
       " 'zip78717',\n",
       " 'zip78719',\n",
       " 'zip78721',\n",
       " 'zip78722',\n",
       " 'zip78723',\n",
       " 'zip78724',\n",
       " 'zip78725',\n",
       " 'zip78726',\n",
       " 'zip78727',\n",
       " 'zip78728',\n",
       " 'zip78729',\n",
       " 'zip78730',\n",
       " 'zip78731',\n",
       " 'zip78732',\n",
       " 'zip78733',\n",
       " 'zip78734',\n",
       " 'zip78735',\n",
       " 'zip78736',\n",
       " 'zip78737',\n",
       " 'zip78738',\n",
       " 'zip78739',\n",
       " 'zip78741',\n",
       " 'zip78742',\n",
       " 'zip78744',\n",
       " 'zip78745',\n",
       " 'zip78746',\n",
       " 'zip78747',\n",
       " 'zip78748',\n",
       " 'zip78749',\n",
       " 'zip78750',\n",
       " 'zip78751',\n",
       " 'zip78752',\n",
       " 'zip78753',\n",
       " 'zip78754',\n",
       " 'zip78756',\n",
       " 'zip78757',\n",
       " 'zip78758',\n",
       " 'zip78759',\n",
       " 'loc_typeABANDONED/CONDEMNED STRUCTURE',\n",
       " 'loc_typeAMUSEMENT PARK',\n",
       " 'loc_typeARENA / STADIUM / FAIRGROUNDS / COLISEUM',\n",
       " 'loc_typeATM SEPARATE FROM BANK',\n",
       " 'loc_typeAUTO DEALERSHIP NEW / USED',\n",
       " 'loc_typeBANKS / SAVINGS & LOAN',\n",
       " 'loc_typeBAR / NIGHT CLUB',\n",
       " 'loc_typeCAMP / CAMPGROUND',\n",
       " 'loc_typeCHURCH / SYNAGOGUE / TEMPLE / MOSQUE',\n",
       " 'loc_typeCOMMERCIAL / OFFICE BUILDING',\n",
       " 'loc_typeCOMMUNITY CENTER',\n",
       " 'loc_typeCONSTRUCTION SITE',\n",
       " 'loc_typeCONVENIENCE STORE',\n",
       " 'loc_typeDAYCARE FACILITY',\n",
       " 'loc_typeDEPARTMENT / DISCOUNT STORE',\n",
       " 'loc_typeDOCK / WHARF / FREIGHT / MODAL TERMINAL',\n",
       " 'loc_typeDRUG STORE / DR. OFFICE / HOSPITAL',\n",
       " 'loc_typeFARM FACILITY',\n",
       " 'loc_typeFIELD / WOODS',\n",
       " 'loc_typeGAMBLING FACILITY / CASINO / RACE TRACK',\n",
       " 'loc_typeGAS / SERVICE STATIONS',\n",
       " 'loc_typeGOVERNMENT / PUBLIC BUILDING',\n",
       " 'loc_typeGROCERY / SUPERMARKET',\n",
       " 'loc_typeHOTEL / MOTEL / ETC.',\n",
       " 'loc_typeINDUSTRIAL SITE',\n",
       " 'loc_typeJAIL / PRISON',\n",
       " 'loc_typeLAKE / WATERWAY',\n",
       " 'loc_typeLIQUOR STORE',\n",
       " 'loc_typeMILITARY INSTALLATION',\n",
       " 'loc_typeOTHER / UNKNOWN',\n",
       " 'loc_typePARK / PLAYGROUND',\n",
       " 'loc_typePARKING LOTS / GARAGE',\n",
       " 'loc_typeRENTAL STORAGE FACILITY',\n",
       " 'loc_typeRESIDENCE / HOME',\n",
       " 'loc_typeREST AREA',\n",
       " 'loc_typeRESTAURANTS',\n",
       " 'loc_typeSCHOOL - COLLEGE / UNIVERSITY',\n",
       " 'loc_typeSCHOOL - ELEMENTARY / SECONDARY',\n",
       " 'loc_typeSCHOOLS / COLLEGES',\n",
       " 'loc_typeSHELTER-MISSION / HOMELESS',\n",
       " 'loc_typeSHOPPING MALL',\n",
       " 'loc_typeSPECIALTY  STORE (TV  FUR ETC.)',\n",
       " 'loc_typeSTREETS / HWY / ROAD / ALLEY',\n",
       " 'loc_typeTRANSPORTATION (AIR / BUS / TRAIN - TERMINALS)',\n",
       " 'loc_typeTRIBAL LANDS']"
      ]
     },
     "execution_count": 15,
     "metadata": {},
     "output_type": "execute_result"
    }
   ],
   "source": [
    "cols_to_use"
   ]
  },
  {
   "cell_type": "markdown",
   "metadata": {},
   "source": [
    "## Run models on training data"
   ]
  },
  {
   "cell_type": "code",
   "execution_count": 16,
   "metadata": {},
   "outputs": [
    {
     "data": {
      "text/plain": [
       "5"
      ]
     },
     "execution_count": 16,
     "metadata": {},
     "output_type": "execute_result"
    }
   ],
   "source": [
    "# Set up stratified k fold split\n",
    "skf = StratifiedKFold(n_splits=5, random_state=400)\n",
    "skf.get_n_splits(X_train, y_train)"
   ]
  },
  {
   "cell_type": "code",
   "execution_count": 17,
   "metadata": {},
   "outputs": [
    {
     "data": {
      "text/plain": [
       "0.5997927511302519"
      ]
     },
     "execution_count": 17,
     "metadata": {},
     "output_type": "execute_result"
    }
   ],
   "source": [
    "# Logistic regression \n",
    "auc_lr = []\n",
    "for train_index, test_index in skf.split(X_train, y_train):\n",
    "    \n",
    "    X_train_fold, X_test_fold = X_train[cols_to_use].iloc[train_index], X_train[cols_to_use].iloc[test_index]\n",
    "    y_train_fold, y_test_fold = y_train.iloc[train_index], y_train.iloc[test_index]\n",
    "    \n",
    "    model = LogisticRegression(C=1e30).fit(X_train_fold, y_train_fold)\n",
    "    \n",
    "    y_pred_fold = model.predict_proba(X_test_fold)[:,1]\n",
    "    fpr1, tpr1, thresholds = roc_curve(y_test_fold, y_pred_fold)\n",
    "    auc_lr.append(auc(fpr1, tpr1))\n",
    "\n",
    "np.mean(auc_lr)"
   ]
  },
  {
   "cell_type": "code",
   "execution_count": 18,
   "metadata": {},
   "outputs": [
    {
     "data": {
      "text/plain": [
       "0.7179777081580243"
      ]
     },
     "execution_count": 18,
     "metadata": {},
     "output_type": "execute_result"
    }
   ],
   "source": [
    "# Naive bayes\n",
    "auc_nb = []\n",
    "for train_index, test_index in skf.split(X_train, y_train):\n",
    "        \n",
    "    X_train_fold, X_test_fold = X_train[cols_to_use].iloc[train_index], X_train[cols_to_use].iloc[test_index]\n",
    "    y_train_fold, y_test_fold = y_train.iloc[train_index], y_train.iloc[test_index]\n",
    "    \n",
    "    model = BernoulliNB().fit(X_train_fold, y_train_fold)\n",
    "    \n",
    "    y_pred_fold = model.predict_proba(X_test_fold)[:,1]\n",
    "    fpr2, tpr2, thresholds = roc_curve(y_test_fold, y_pred_fold)\n",
    "    auc_nb.append(auc(fpr2, tpr2))\n",
    "\n",
    "np.mean(auc_nb)"
   ]
  },
  {
   "cell_type": "code",
   "execution_count": 19,
   "metadata": {},
   "outputs": [
    {
     "data": {
      "text/plain": [
       "0.554751166088742"
      ]
     },
     "execution_count": 19,
     "metadata": {},
     "output_type": "execute_result"
    }
   ],
   "source": [
    "# Decision tree\n",
    "auc_dt = []\n",
    "for train_index, test_index in skf.split(X_train, y_train):\n",
    "    \n",
    "    X_train_fold, X_test_fold = X_train[cols_to_use].iloc[train_index], X_train[cols_to_use].iloc[test_index]\n",
    "    y_train_fold, y_test_fold = y_train.iloc[train_index], y_train.iloc[test_index]\n",
    "    \n",
    "    model = DecisionTreeClassifier(criterion=\"entropy\").fit(X_train_fold, y_train_fold)\n",
    "    \n",
    "    y_pred_fold = model.predict_proba(X_test_fold)[:,1]\n",
    "    fpr3, tpr3, thresholds = roc_curve(y_test_fold, y_pred_fold)\n",
    "    auc_dt.append(auc(fpr3, tpr3))\n",
    "\n",
    "np.mean(auc_dt)"
   ]
  },
  {
   "cell_type": "code",
   "execution_count": 20,
   "metadata": {},
   "outputs": [
    {
     "data": {
      "text/plain": [
       "0.6007450487322166"
      ]
     },
     "execution_count": 20,
     "metadata": {},
     "output_type": "execute_result"
    }
   ],
   "source": [
    "# KNN\n",
    "auc_knn = []\n",
    "for train_index, test_index in skf.split(X_train, y_train):\n",
    "    \n",
    "    X_train_fold, X_test_fold = X_train[cols_to_use].iloc[train_index], X_train[cols_to_use].iloc[test_index]\n",
    "    y_train_fold, y_test_fold = y_train.iloc[train_index], y_train.iloc[test_index]\n",
    "    \n",
    "    model = KNeighborsClassifier(n_neighbors=5).fit(X_train_fold, y_train_fold)\n",
    "                                       \n",
    "    y_pred_fold = model.predict_proba(X_test_fold)[:,1]\n",
    "    fpr4, tpr4, thresholds = roc_curve(y_test_fold, y_pred_fold)\n",
    "    auc_knn.append(auc(fpr4, tpr4))\n",
    "\n",
    "np.mean(auc_knn)"
   ]
  },
  {
   "cell_type": "code",
   "execution_count": 21,
   "metadata": {},
   "outputs": [],
   "source": [
    "# SVM - THIS DOESN\"T WORK (in a reasonable amount of time)!\n",
    "#auc_svm = []\n",
    "#for train_index, test_index in skf.split(X_train, y_train):\n",
    "        \n",
    "#    X_train_fold, X_test_fold = X_train.iloc[train_index], X_train.iloc[test_index]\n",
    "#    y_train_fold, y_test_fold = y_train.iloc[train_index], y_train.iloc[test_index]\n",
    "    \n",
    "#    svm_model = svm.SVC(kernel='linear')\n",
    "#    svm_model.fit(X_train_fold, y_train_fold)\n",
    "    \n",
    "#    y_pred_fold = svm.predict_proba(X_test_fold)[:,1]\n",
    "#    fpr, tpr, thresholds = roc_curve(y_test_fold, y_pred_fold)\n",
    "#    auc_svm.append(auc(fpr, tpr))\n"
   ]
  },
  {
   "cell_type": "markdown",
   "metadata": {},
   "source": [
    "To compare the four models that ran beyond the AUC values, we plot the ROC curve. "
   ]
  },
  {
   "cell_type": "code",
   "execution_count": 22,
   "metadata": {},
   "outputs": [
    {
     "data": {
      "text/plain": [
       "<Figure size 1008x720 with 0 Axes>"
      ]
     },
     "execution_count": 22,
     "metadata": {},
     "output_type": "execute_result"
    },
    {
     "data": {
      "image/png": "[encoded data removed]",
      "text/plain": [
       "<Figure size 432x288 with 1 Axes>"
      ]
     },
     "metadata": {},
     "output_type": "display_data"
    },
    {
     "data": {
      "text/plain": [
       "<Figure size 1008x720 with 0 Axes>"
      ]
     },
     "metadata": {},
     "output_type": "display_data"
    }
   ],
   "source": [
    "plt.title('Receiver Operating Characteristic Curvers')\n",
    "plt.plot(fpr, tpr, 'b--', label = 'Logistic Regression (AUC=%0.2f)' % np.mean(auc_lr)) #logistic regression\n",
    "plt.plot(fpr2, tpr2, 'g--', label = 'Naive Bayes (AUC=%0.2f)' % np.mean(auc_nb)) #naive bayes\n",
    "plt.plot(fpr3, tpr3, 'm--', label = 'Decision Tree (AUC=%0.2f)' % np.mean(auc_dt)) #decision tree\n",
    "plt.plot(fpr4, tpr4, 'r--', label = 'KNN (AUC=%0.2f)' %np.mean(auc_knn)) #KNN\n",
    "plt.plot(np.arange(0,1.1, 0.1), np.arange(0,1.1, 0.1), label = 'random classification')\n",
    "\n",
    "plt.ylabel('True Positive Rate')\n",
    "plt.xlabel('False Positive Rate')\n",
    "plt.legend()\n",
    "plt.figure(figsize=(14, 10),)"
   ]
  },
  {
   "cell_type": "markdown",
   "metadata": {},
   "source": [
    "## Tune the Naive Bayes model"
   ]
  },
  {
   "cell_type": "code",
   "execution_count": 23,
   "metadata": {},
   "outputs": [],
   "source": [
    "# Naive bayes\n",
    "auc_nb = {}\n",
    "alphaoptions = [0.00001,0.0001,0.001,0.01,0.1,1,10,100,1000]\n",
    "for val in alphaoptions:\n",
    "    auc_nb[val] = []\n",
    "    \n",
    "for train_index, test_index in skf.split(X_train, y_train):\n",
    "    \n",
    "    X_train_fold, X_test_fold = X_train[cols_to_use].iloc[train_index], X_train[cols_to_use].iloc[test_index]\n",
    "    y_train_fold, y_test_fold = y_train.iloc[train_index], y_train.iloc[test_index]\n",
    "    \n",
    "    for i in alphaoptions:\n",
    "        \n",
    "        model = BernoulliNB(alpha=i).fit(X_train_fold, y_train_fold)\n",
    "        y_pred_fold = model.predict_proba(X_test_fold)[:,1]\n",
    "        fpr2, tpr2, thresholds = roc_curve(y_test_fold, y_pred_fold)\n",
    "        auc_nb[i].append(auc(fpr2, tpr2))"
   ]
  },
  {
   "cell_type": "code",
   "execution_count": 24,
   "metadata": {},
   "outputs": [
    {
     "name": "stdout",
     "output_type": "stream",
     "text": [
      "1\n"
     ]
    }
   ],
   "source": [
    "averagenb = []\n",
    "for entry in auc_nb:\n",
    "    averagenb.append(np.mean(auc_nb[entry]))\n",
    "\n",
    "bestalpha = list(auc_nb.keys())[averagenb.index(max(averagenb))]\n",
    "print(bestalpha)"
   ]
  },
  {
   "cell_type": "code",
   "execution_count": 25,
   "metadata": {},
   "outputs": [
    {
     "data": {
      "text/plain": [
       "Text(0.5,0,'alpha')"
      ]
     },
     "execution_count": 25,
     "metadata": {},
     "output_type": "execute_result"
    },
    {
     "data": {
      "image/png": "[encoded data removed]",
      "text/plain": [
       "<Figure size 432x288 with 1 Axes>"
      ]
     },
     "metadata": {},
     "output_type": "display_data"
    }
   ],
   "source": [
    "plt.semilogx(alphaoptions, averagenb)\n",
    "plt.title('AUC vs alpha in NB model')\n",
    "plt.ylabel('AUC')\n",
    "plt.xlabel('alpha')"
   ]
  },
  {
   "cell_type": "markdown",
   "metadata": {},
   "source": [
    "## Run the final model and evaluate it"
   ]
  },
  {
   "cell_type": "code",
   "execution_count": 26,
   "metadata": {},
   "outputs": [
    {
     "name": "stdout",
     "output_type": "stream",
     "text": [
      "0.6405166223599\n"
     ]
    }
   ],
   "source": [
    "model = BernoulliNB().fit(X_train, y_train)\n",
    "y_pred = model.predict_proba(X_test)[:,1]\n",
    "fpr_final, tpr_final, thresholds = roc_curve(y_test, y_pred)\n",
    "final_auc = auc(fpr2, tpr2)\n",
    "print(final_auc)"
   ]
  },
  {
   "cell_type": "code",
   "execution_count": 27,
   "metadata": {},
   "outputs": [],
   "source": [
    "# Show the confusion matrix at different thresholds \n",
    "n = y_test.shape[0]\n",
    "thresholds=range(1, 100)\n",
    "thresholds = [x/100 for x in thresholds]\n",
    "accuracy = []\n",
    "recall = []\n",
    "for threshold in thresholds:\n",
    "    y_pred_class = y_pred > threshold\n",
    "    tn, fp, fn, tp = confusion_matrix(y_test, y_pred_class).ravel()\n",
    "    #print(\"Threshold: \" + str(threshold))\n",
    "    #print(\"False positive rate: \" + str(fp/(tp+fp)))\n",
    "    #print(\"False negative rate: \" + str(fn/(tn+fn)))    \n",
    "    #print(\"Accuracy: \" + str((tp+tn)/(tp+tn+fp+fn)))\n",
    "    recall.append(tp/(tp+fn))\n",
    "    accuracy.append((tp+tn)/(tp+tn+fp+fn))\n",
    "metrics = pd.DataFrame({\"threshold\": thresholds,\n",
    "                       \"accuracy\": accuracy,\n",
    "                       \"recall\": recall})    "
   ]
  },
  {
   "cell_type": "code",
   "execution_count": 28,
   "metadata": {
    "scrolled": true
   },
   "outputs": [
    {
     "data": {
      "text/plain": [
       "<matplotlib.legend.Legend at 0x1a1c1e9208>"
      ]
     },
     "execution_count": 28,
     "metadata": {},
     "output_type": "execute_result"
    },
    {
     "data": {
      "image/png": "[encoded data removed]",
      "text/plain": [
       "<Figure size 432x288 with 1 Axes>"
      ]
     },
     "metadata": {},
     "output_type": "display_data"
    }
   ],
   "source": [
    "plt.plot(metrics.threshold, metrics.accuracy, label=\"Accuracy\")\n",
    "plt.plot(metrics.threshold, metrics.recall, label=\"Recall Rate\")\n",
    "#plt.axvline(x=0.02)\n",
    "plt.ylabel(\"Accuracy\")\n",
    "plt.xlabel(\"Threshold Probability for Predicting Resistance\")\n",
    "plt.xlim(0.0, 1)\n",
    "plt.ylim(0.0, 1)\n",
    "plt.legend()"
   ]
  },
  {
   "cell_type": "code",
   "execution_count": 29,
   "metadata": {
    "scrolled": true
   },
   "outputs": [
    {
     "data": {
      "text/plain": [
       "(0.0, 1)"
      ]
     },
     "execution_count": 29,
     "metadata": {},
     "output_type": "execute_result"
    },
    {
     "data": {
      "image/png": "[encoded data removed]",
      "text/plain": [
       "<Figure size 432x288 with 1 Axes>"
      ]
     },
     "metadata": {},
     "output_type": "display_data"
    }
   ],
   "source": [
    "plt.plot(metrics.threshold, metrics.recall)\n",
    "plt.ylabel(\"Recall Rate\")\n",
    "plt.xlabel(\"Threshold Probability for Predicting Resistance\")\n",
    "plt.xlim(0.0, 1)\n",
    "plt.ylim(0.0, 1)"
   ]
  },
  {
   "cell_type": "code",
   "execution_count": 30,
   "metadata": {},
   "outputs": [
    {
     "name": "stdout",
     "output_type": "stream",
     "text": [
      "threshold    0.030000\n",
      "accuracy     0.863114\n",
      "recall       0.398120\n",
      "Name: 2, dtype: float64\n"
     ]
    },
    {
     "data": {
      "text/plain": [
       "Text(83.4,0.5,'True Value')"
      ]
     },
     "execution_count": 30,
     "metadata": {},
     "output_type": "execute_result"
    },
    {
     "data": {
      "image/png": "[encoded data removed]",
      "text/plain": [
       "<Figure size 432x288 with 2 Axes>"
      ]
     },
     "metadata": {},
     "output_type": "display_data"
    }
   ],
   "source": [
    "y_pred_class = y_pred > 0.02\n",
    "print(metrics.iloc[2, ])\n",
    "conf_mat= confusion_matrix(y_test, y_pred_class)\n",
    "sns.heatmap(conf_mat, fmt='d',square=True, annot=True, cmap=\"YlGnBu\",  xticklabels = ['No Resistance','Resistance'],\n",
    "                                                           yticklabels = ['No Resistance','Resistance'])\n",
    "plt.xlabel(\"Predicted Value\")\n",
    "plt.ylabel(\"True Value\")"
   ]
  },
  {
   "cell_type": "code",
   "execution_count": 31,
   "metadata": {},
   "outputs": [],
   "source": [
    "# Merge in the remaining outcome variables\n",
    "combined_outcomes_test = combined_outcomes.iloc[index_test]\n",
    "combined_outcomes_test[\"y_pred_class\"] = y_pred_class\n",
    "combined_outcomes_test[\"y_true\"] = y_test"
   ]
  },
  {
   "cell_type": "code",
   "execution_count": 32,
   "metadata": {},
   "outputs": [
    {
     "data": {
      "image/png": "[encoded data removed]",
      "text/plain": [
       "<Figure size 432x288 with 1 Axes>"
      ]
     },
     "metadata": {},
     "output_type": "display_data"
    }
   ],
   "source": [
    "combined_outcomes_test[\"any_weapon_str\"] = \"\"\n",
    "combined_outcomes_test.loc[combined_outcomes_test.any_weapon == 1, \"any_weapon_str\"] = \"Weapon\"\n",
    "combined_outcomes_test.loc[combined_outcomes_test.any_weapon == 0, \"any_weapon_str\"] = \"No Weapon\"\n",
    "ct=pd.crosstab(combined_outcomes_test.loc[combined_outcomes_test.y_true==1, ].y_pred_class, combined_outcomes_test.loc[combined_outcomes_test.y_true==1, ].any_weapon_str).apply(lambda r: r/r.sum(), axis=1)\n",
    "stacked = ct.stack().reset_index().rename(columns={0:'value'})\n",
    "fig = sns.barplot(x=stacked.any_weapon_str, y=stacked.value, hue=stacked.y_pred_class)\n",
    "fig.set(xlabel='Use of a Weapon', ylabel='Percent of Incidents')\n",
    "plt.show()\n"
   ]
  },
  {
   "cell_type": "code",
   "execution_count": 33,
   "metadata": {},
   "outputs": [
    {
     "data": {
      "text/html": [
       "<div>\n",
       "<style scoped>\n",
       "    .dataframe tbody tr th:only-of-type {\n",
       "        vertical-align: middle;\n",
       "    }\n",
       "\n",
       "    .dataframe tbody tr th {\n",
       "        vertical-align: top;\n",
       "    }\n",
       "\n",
       "    .dataframe thead th {\n",
       "        text-align: right;\n",
       "    }\n",
       "</style>\n",
       "<table border=\"1\" class=\"dataframe\">\n",
       "  <thead>\n",
       "    <tr style=\"text-align: right;\">\n",
       "      <th>any_weapon_str</th>\n",
       "      <th>No Weapon</th>\n",
       "      <th>Weapon</th>\n",
       "    </tr>\n",
       "    <tr>\n",
       "      <th>y_pred_class</th>\n",
       "      <th></th>\n",
       "      <th></th>\n",
       "    </tr>\n",
       "  </thead>\n",
       "  <tbody>\n",
       "    <tr>\n",
       "      <th>False</th>\n",
       "      <td>0.711500</td>\n",
       "      <td>0.288500</td>\n",
       "    </tr>\n",
       "    <tr>\n",
       "      <th>True</th>\n",
       "      <td>0.633419</td>\n",
       "      <td>0.366581</td>\n",
       "    </tr>\n",
       "  </tbody>\n",
       "</table>\n",
       "</div>"
      ],
      "text/plain": [
       "any_weapon_str  No Weapon    Weapon\n",
       "y_pred_class                       \n",
       "False            0.711500  0.288500\n",
       "True             0.633419  0.366581"
      ]
     },
     "execution_count": 33,
     "metadata": {},
     "output_type": "execute_result"
    }
   ],
   "source": [
    "ct"
   ]
  },
  {
   "cell_type": "markdown",
   "metadata": {},
   "source": [
    "## Make Summary Statistics Table"
   ]
  },
  {
   "cell_type": "code",
   "execution_count": 34,
   "metadata": {},
   "outputs": [],
   "source": [
    "combined.describe().to_csv(\"Output Data/Summary Stats.csv\")"
   ]
  }
 ],
 "metadata": {
  "kernelspec": {
   "display_name": "Python 3",
   "language": "python",
   "name": "python3"
  },
  "language_info": {
   "codemirror_mode": {
    "name": "ipython",
    "version": 3
   },
   "file_extension": ".py",
   "mimetype": "text/x-python",
   "name": "python",
   "nbconvert_exporter": "python",
   "pygments_lexer": "ipython3",
   "version": "3.6.5"
  }
 },
 "nbformat": 4,
 "nbformat_minor": 2
}
